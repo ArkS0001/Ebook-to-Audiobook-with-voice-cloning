{
  "nbformat": 4,
  "nbformat_minor": 0,
  "metadata": {
    "colab": {
      "provenance": [],
      "gpuType": "T4",
      "include_colab_link": true
    },
    "kernelspec": {
      "name": "python3",
      "display_name": "Python 3"
    },
    "language_info": {
      "name": "python"
    },
    "accelerator": "GPU"
  },
  "cells": [
    {
      "cell_type": "markdown",
      "metadata": {
        "id": "view-in-github",
        "colab_type": "text"
      },
      "source": [
        "<a href=\"https://colab.research.google.com/github/ArkS0001/Ebook-to-Audiobook-with-voice-cloning/blob/main/ebook2audiobook.ipynb\" target=\"_parent\"><img src=\"https://colab.research.google.com/assets/colab-badge.svg\" alt=\"Open In Colab\"/></a>"
      ]
    },
    {
      "cell_type": "code",
      "source": [
        "# @title 🛠️ Install requirments\n",
        "#!DEBIAN_FRONTEND=noninteractive\n",
        "!sudo apt-get update # && sudo apt-get -y upgrade\n",
        "!sudo apt-get -y install libegl1\n",
        "!sudo apt-get -y install libopengl0\n",
        "!sudo apt-get -y install libxcb-cursor0\n",
        "!sudo -v && wget -nv -O- https://download.calibre-ebook.com/linux-installer.sh | sudo sh /dev/stdin\n",
        "!sudo apt-get install -y ffmpeg\n",
        "!apt-get install -y mecab libmecab-dev mecab-ipadic-utf8\n",
        "!pip install mecab-python3\n",
        "#!sudo apt-get install -y calibre\n",
        "#!git clone https://github.com/DrewThomasson/ebook2audiobook.git\n",
        "!git clone https://github.com/DrewThomasson/ebook2audiobook.git temp_repo && mv temp_repo/* temp_repo/.* ./ && rm -rf temp_repo\n",
        "!pip install -r /content/requirements.txt"
      ],
      "metadata": {
        "id": "Edxj355K0rUz",
        "collapsed": true
      },
      "execution_count": null,
      "outputs": []
    },
    {
      "cell_type": "code",
      "source": [
        "\n",
        "# Start the app with Share=True for the gradio interface\n",
        "!python /content/app.py --share"
      ],
      "metadata": {
        "id": "658BTHueyLMo"
      },
      "execution_count": null,
      "outputs": []
    }
  ]
}